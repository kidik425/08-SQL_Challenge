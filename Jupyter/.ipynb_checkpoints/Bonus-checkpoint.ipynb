{
 "cells": [
  {
   "cell_type": "code",
   "execution_count": null,
   "metadata": {},
   "outputs": [],
   "source": [
    "#import dependencies\n",
    "import psycopg2\n",
    "import pandas as pd\n",
    "\n",
    "#get stored u/p\n",
    "from login import username, pwd"
   ]
  },
  {
   "cell_type": "code",
   "execution_count": null,
   "metadata": {},
   "outputs": [],
   "source": [
    "select = 'SELECT * FROM '\n",
    "\n",
    "deptSel = f'{select}departments'\n",
    "deptCols = ['dept_no','dept_name']\n",
    "\n",
    "deptEmpSel = f'{select}dept_emp'\n",
    "deptEmpCols = ['emp_no','dept_no']\n",
    "\n",
    "deptManSel = f'{select}dept_manager'\n",
    "deptManCols = ['dept_no', 'emp_no']\n",
    "\n",
    "empSel = f'{select}employees'\n",
    "empCols = ['emp_no','emp_title_id','birth_date','first_name','last_name','sex','hire_date']\n",
    "\n",
    "salSel = f'{select}salaries'\n",
    "salCols = ['emp_no','salary']\n",
    "\n",
    "titlesSel = f'{select}titles'\n",
    "titlesCols = ['title_id','title']"
   ]
  },
  {
   "cell_type": "code",
   "execution_count": null,
   "metadata": {},
   "outputs": [],
   "source": [
    "param = {\n",
    "    'host'      : 'localhost',\n",
    "    'database'  : 'bootcamp',\n",
    "    'user'      : username,\n",
    "    'password'  : pwd\n",
    "}\n",
    "\n",
    "def connect(params_dic):\n",
    "    conn = None\n",
    "    try:\n",
    "        # connect to the PostgreSQL server\n",
    "        print('Connecting to the PostgreSQL database...')\n",
    "        conn = psycopg2.connect(**params_dic)\n",
    "    except (Exception, psycopg2.DatabaseError) as error:\n",
    "        print(error)\n",
    "        sys.exit(1) \n",
    "    print('Connection successful')\n",
    "    return conn"
   ]
  },
  {
   "cell_type": "code",
   "execution_count": null,
   "metadata": {},
   "outputs": [],
   "source": [
    "def getDataframe(conn, select_query, column_names):\n",
    "    cursor = conn.cursor()\n",
    "    try:\n",
    "        cursor.execute(select_query)\n",
    "    except (Exception, psycopg2.DatabaseError) as error:\n",
    "        print('Error: %s' % error)\n",
    "        cursor.close()\n",
    "        return 1\n",
    "    \n",
    "    # Naturally we get a list of tupples\n",
    "    tupples = cursor.fetchall()\n",
    "    cursor.close()\n",
    "    \n",
    "    # We just need to turn it into a pandas dataframe\n",
    "    df = pd.DataFrame(tupples, columns=column_names)\n",
    "    return df"
   ]
  },
  {
   "cell_type": "code",
   "execution_count": null,
   "metadata": {},
   "outputs": [],
   "source": [
    "conn = connect(param)\n",
    "\n",
    "# Execute the Dept query\n",
    "deptDf = getDataframe(conn, deptSel, deptCols)\n",
    "deptDf.head()"
   ]
  },
  {
   "cell_type": "code",
   "execution_count": null,
   "metadata": {},
   "outputs": [],
   "source": [
    "# Execute the Dept emp query\n",
    "deptEmpDf = getDataframe(conn, deptEmpSel, deptEmpCols)\n",
    "deptEmpDf.head()"
   ]
  },
  {
   "cell_type": "code",
   "execution_count": null,
   "metadata": {},
   "outputs": [],
   "source": [
    "# Execute the Titles query\n",
    "titlesDf = getDataframe(conn, titlesSel, titlesCols)\n",
    "titlesDf.head()"
   ]
  },
  {
   "cell_type": "code",
   "execution_count": null,
   "metadata": {},
   "outputs": [],
   "source": [
    "# Execute the Department Manager query\n",
    "deptManDf = getDataframe(conn, deptManSel, deptManCols)\n",
    "deptManDf.head()"
   ]
  },
  {
   "cell_type": "code",
   "execution_count": null,
   "metadata": {},
   "outputs": [],
   "source": [
    "# Execute the Employee query\n",
    "empDf = getDataframe(conn, empSel, empCols)\n",
    "empDf.head()"
   ]
  },
  {
   "cell_type": "code",
   "execution_count": null,
   "metadata": {},
   "outputs": [],
   "source": [
    "# Execute the Salary query\n",
    "salDf = getDataframe(conn, salSel, salCols)\n",
    "salDf.head(100)"
   ]
  },
  {
   "cell_type": "code",
   "execution_count": null,
   "metadata": {},
   "outputs": [],
   "source": [
    "commonSals = salDf.groupby('salary').agg(**{'Salary Counts':('salary','count')})\n",
    "commonSals.sort_values('Salary Counts',ascending=False)"
   ]
  },
  {
   "cell_type": "code",
   "execution_count": null,
   "metadata": {},
   "outputs": [],
   "source": [
    "hist = commonSals.plot(kind ='hist'\n",
    "                      ,xlabel = 'Salary'\n",
    "                      ,ylabel = 'Frequency')\n",
    "hist\n",
    "\n",
    "# countChart = countDrug.plot(kind=\"bar\", \n",
    "#                             facecolor=\"red\", \n",
    "#                             xlabel=\"Drug Regimen\", \n",
    "#                             ylabel=\"Number of Measurements\")"
   ]
  },
  {
   "cell_type": "code",
   "execution_count": null,
   "metadata": {},
   "outputs": [],
   "source": []
  }
 ],
 "metadata": {
  "kernelspec": {
   "display_name": "Python 3",
   "language": "python",
   "name": "python3"
  },
  "language_info": {
   "codemirror_mode": {
    "name": "ipython",
    "version": 3
   },
   "file_extension": ".py",
   "mimetype": "text/x-python",
   "name": "python",
   "nbconvert_exporter": "python",
   "pygments_lexer": "ipython3",
   "version": "3.8.5"
  }
 },
 "nbformat": 4,
 "nbformat_minor": 4
}
